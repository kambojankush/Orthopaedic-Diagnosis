{
 "cells": [
  {
   "cell_type": "code",
   "execution_count": 1,
   "metadata": {},
   "outputs": [],
   "source": [
    "from sklearn.preprocessing import LabelEncoder, StandardScaler\n",
    "from sklearn.model_selection import train_test_split\n",
    "from sklearn.ensemble import RandomForestClassifier\n",
    "from sklearn.metrics import confusion_matrix\n",
    "from sklearn import metrics\n",
    "\n",
    "import numpy as np\n",
    "import pandas as pd"
   ]
  },
  {
   "cell_type": "code",
   "execution_count": 2,
   "metadata": {},
   "outputs": [],
   "source": [
    "dataset = pd.read_csv('./vertebral_column_data/column_3C.dat', delimiter = ' ', header = None)\n",
    "X = dataset.iloc[:,0:-1].values\n",
    "Y = dataset.iloc[:,-1].values"
   ]
  },
  {
   "cell_type": "code",
   "execution_count": 3,
   "metadata": {},
   "outputs": [],
   "source": [
    "le = LabelEncoder()\n",
    "Y = le.fit_transform(Y)\n",
    "#Y = np.reshape(Y,(310,1))\n",
    "#onehotencoder = OneHotEncoder(categorical_features=[0])\n",
    "#Y = onehotencoder.fit_transform(Y).toarray()\n",
    " \n",
    "X_train,X_test,Y_train,Y_test = train_test_split(X,Y,test_size = 0.2,random_state = 0)"
   ]
  },
  {
   "cell_type": "code",
   "execution_count": 4,
   "metadata": {},
   "outputs": [],
   "source": [
    "sc = StandardScaler()\n",
    "X_train = sc.fit_transform(X_train)\n",
    "X_test = sc.transform(X_test)\n",
    " \n",
    "classifier = RandomForestClassifier(n_estimators=10, criterion = 'entropy',random_state = 0)\n",
    "classsifier = classifier.fit(X_train,Y_train)"
   ]
  },
  {
   "cell_type": "code",
   "execution_count": 5,
   "metadata": {},
   "outputs": [
    {
     "name": "stdout",
     "output_type": "stream",
     "text": [
      "[[ 3  9  1]\n",
      " [ 1 16  2]\n",
      " [ 0  1 29]]\n",
      "             precision    recall  f1-score   support\n",
      "\n",
      "         DH       0.75      0.23      0.35        13\n",
      "         NO       0.62      0.84      0.71        19\n",
      "         SL       0.91      0.97      0.94        30\n",
      "\n",
      "avg / total       0.78      0.77      0.74        62\n",
      "\n"
     ]
    }
   ],
   "source": [
    "Y_pred = classifier.predict(X_test)\n",
    " \n",
    "reverse = dict(zip(range(3),['DH','NO','SL']))\n",
    "Y_test = np.vectorize(reverse.get)(Y_test)\n",
    "Y_pred = np.vectorize(reverse.get)(Y_pred)\n",
    " \n",
    "cm = confusion_matrix(Y_test, Y_pred)\n",
    "\n",
    "print(cm)\n",
    "print(metrics.classification_report(Y_test, Y_pred))"
   ]
  }
 ],
 "metadata": {
  "kernelspec": {
   "display_name": "Python 3",
   "language": "python",
   "name": "python3"
  },
  "language_info": {
   "codemirror_mode": {
    "name": "ipython",
    "version": 3
   },
   "file_extension": ".py",
   "mimetype": "text/x-python",
   "name": "python",
   "nbconvert_exporter": "python",
   "pygments_lexer": "ipython3",
   "version": "3.5.2"
  }
 },
 "nbformat": 4,
 "nbformat_minor": 2
}
