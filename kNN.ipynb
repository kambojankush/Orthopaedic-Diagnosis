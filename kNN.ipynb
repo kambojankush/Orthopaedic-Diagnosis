{
 "cells": [
  {
   "cell_type": "code",
   "execution_count": 24,
   "metadata": {},
   "outputs": [],
   "source": [
    "import matplotlib.pyplot as plt\n",
    "from sklearn.neighbors import KNeighborsClassifier \n",
    "from sklearn.model_selection import train_test_split, cross_val_score\n",
    "from sklearn import metrics\n",
    "from sklearn.preprocessing import normalize,scale\n",
    "import numpy as np\n",
    "import pandas as pd \n",
    "\n",
    "from sklearn.decomposition import PCA as sklearnPCA\n",
    "from pandas.plotting import parallel_coordinates"
   ]
  },
  {
   "cell_type": "code",
   "execution_count": 25,
   "metadata": {},
   "outputs": [
    {
     "name": "stdout",
     "output_type": "stream",
     "text": [
      "pelvic_incidence              float64\n",
      "pelvic_tilt                   float64\n",
      "lumbar_lordosis_angle         float64\n",
      "sacral_slope                  float64\n",
      "pelvic_radius                 float64\n",
      "grade_of_spondylolisthesis    float64\n",
      "label                          object\n",
      "dtype: object\n"
     ]
    }
   ],
   "source": [
    "#importing dataset and converting to datasframe\n",
    "header = ['pelvic_incidence', 'pelvic_tilt', 'lumbar_lordosis_angle', 'sacral_slope', 'pelvic_radius', 'grade_of_spondylolisthesis', 'label']\n",
    "df = pd.read_csv('./vertebral_column_data/column_3C.dat', sep=' ', header=None, names=header)\n",
    "print(df.dtypes)\n"
   ]
  },
  {
   "cell_type": "code",
   "execution_count": 26,
   "metadata": {},
   "outputs": [],
   "source": [
    "# extracting features and lables\n",
    "x = df.iloc[:,0:6]\n",
    "y = df.iloc[:,6]\n",
    "\n",
    "# split into training and test subsets\n",
    "x_train, x_test, y_train, y_test = train_test_split(x, y, test_size=0.4)"
   ]
  },
  {
   "cell_type": "code",
   "execution_count": 27,
   "metadata": {},
   "outputs": [],
   "source": [
    "model = KNeighborsClassifier(n_neighbors=5, weights='distance')"
   ]
  },
  {
   "cell_type": "code",
   "execution_count": 28,
   "metadata": {},
   "outputs": [
    {
     "name": "stdout",
     "output_type": "stream",
     "text": [
      "10-Fold Accuracy :  83.5483870967742\n"
     ]
    }
   ],
   "source": [
    "#10-fold cross validation\n",
    "scores = cross_val_score(model, x, y, scoring='accuracy', cv=10)\n",
    "# print scores\n",
    "print (\"10-Fold Accuracy : \", scores.mean()*100)"
   ]
  },
  {
   "cell_type": "code",
   "execution_count": 29,
   "metadata": {},
   "outputs": [
    {
     "name": "stdout",
     "output_type": "stream",
     "text": [
      "Testing Accuracy :  89.51612903225806\n"
     ]
    }
   ],
   "source": [
    "#creation of the confusion matrix\n",
    "model.fit(x_train,y_train)\n",
    "print (\"Testing Accuracy : \",model.score(x_test, y_test)*100)\n",
    "\n",
    "color_dict = {'DH' : 'cyan', 'SL' : 'magenta', 'NO' : '#1B1B1B'}\n",
    "predicted = model.predict(x)\n",
    "predicted_proba = model.predict_proba(x)"
   ]
  },
  {
   "cell_type": "code",
   "execution_count": 30,
   "metadata": {},
   "outputs": [
    {
     "name": "stdout",
     "output_type": "stream",
     "text": [
      "[[ 55   5   0]\n",
      " [  4  96   0]\n",
      " [  1   3 146]]\n",
      "\n",
      "             precision    recall  f1-score   support\n",
      "\n",
      "         DH       0.92      0.92      0.92        60\n",
      "         NO       0.92      0.96      0.94       100\n",
      "         SL       1.00      0.97      0.99       150\n",
      "\n",
      "avg / total       0.96      0.96      0.96       310\n",
      "\n"
     ]
    }
   ],
   "source": [
    "# confusion matrix\n",
    "cm = metrics.confusion_matrix(y, predicted, labels=['DH', 'NO', 'SL'])\n",
    "print (cm)\n",
    "print()\n",
    "print (metrics.classification_report(y, predicted))\n",
    "\n",
    "plt.show()\n"
   ]
  }
 ],
 "metadata": {
  "kernelspec": {
   "display_name": "Python 3",
   "language": "python",
   "name": "python3"
  },
  "language_info": {
   "codemirror_mode": {
    "name": "ipython",
    "version": 3
   },
   "file_extension": ".py",
   "mimetype": "text/x-python",
   "name": "python",
   "nbconvert_exporter": "python",
   "pygments_lexer": "ipython3",
   "version": "3.6.4"
  }
 },
 "nbformat": 4,
 "nbformat_minor": 2
}
