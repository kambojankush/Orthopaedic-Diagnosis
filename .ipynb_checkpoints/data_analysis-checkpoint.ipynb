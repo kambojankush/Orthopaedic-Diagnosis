{
 "cells": [
  {
   "cell_type": "code",
   "execution_count": 1,
   "metadata": {},
   "outputs": [],
   "source": [
    "import matplotlib.pyplot as plt\n",
    "import pandas as pd\n",
    "import numpy as np\n",
    "\n",
    "from sklearn.decomposition import PCA"
   ]
  },
  {
   "cell_type": "code",
   "execution_count": 2,
   "metadata": {},
   "outputs": [
    {
     "name": "stdout",
     "output_type": "stream",
     "text": [
      "pelvic_incidence              float64\n",
      "pelvic_tilt                   float64\n",
      "lumbar_lordosis_angle         float64\n",
      "sacral_slope                  float64\n",
      "pelvic_radius                 float64\n",
      "grade_of_spondylolisthesis    float64\n",
      "label                          object\n",
      "dtype: object\n"
     ]
    }
   ],
   "source": [
    "header = ['pelvic_incidence', 'pelvic_tilt', 'lumbar_lordosis_angle', 'sacral_slope', 'pelvic_radius', 'grade_of_spondylolisthesis', 'label']\n",
    "df = pd.read_csv('./vertebral_column_data/column_3C.dat', sep=' ', header=None, names=header)\n",
    "\n",
    "print(df.dtypes)"
   ]
  },
  {
   "cell_type": "code",
   "execution_count": 3,
   "metadata": {},
   "outputs": [
    {
     "name": "stdout",
     "output_type": "stream",
     "text": [
      "pelvic_incidence              float64\n",
      "pelvic_tilt                   float64\n",
      "lumbar_lordosis_angle         float64\n",
      "sacral_slope                  float64\n",
      "pelvic_radius                 float64\n",
      "grade_of_spondylolisthesis    float64\n",
      "dtype: object\n",
      "object\n"
     ]
    }
   ],
   "source": [
    "# feature extraction\n",
    "X = df.iloc[:,0:6]\n",
    "Y = df.iloc[:,6]\n",
    "\n",
    "print(X.dtypes)\n",
    "print(Y.dtypes)"
   ]
  },
  {
   "cell_type": "code",
   "execution_count": 4,
   "metadata": {},
   "outputs": [
    {
     "ename": "NameError",
     "evalue": "name 'x' is not defined",
     "output_type": "error",
     "traceback": [
      "\u001b[1;31m---------------------------------------------------------------------------\u001b[0m",
      "\u001b[1;31mNameError\u001b[0m                                 Traceback (most recent call last)",
      "\u001b[1;32m<ipython-input-4-7683cdc39a29>\u001b[0m in \u001b[0;36m<module>\u001b[1;34m()\u001b[0m\n\u001b[0;32m      1\u001b[0m \u001b[0mfig\u001b[0m \u001b[1;33m=\u001b[0m \u001b[0mplt\u001b[0m\u001b[1;33m.\u001b[0m\u001b[0mfigure\u001b[0m\u001b[1;33m(\u001b[0m\u001b[0mfigsize\u001b[0m\u001b[1;33m=\u001b[0m\u001b[1;33m(\u001b[0m\u001b[1;36m15\u001b[0m\u001b[1;33m,\u001b[0m \u001b[1;36m8\u001b[0m\u001b[1;33m)\u001b[0m\u001b[1;33m)\u001b[0m\u001b[1;33m\u001b[0m\u001b[0m\n\u001b[0;32m      2\u001b[0m \u001b[0max1\u001b[0m \u001b[1;33m=\u001b[0m \u001b[0mfig\u001b[0m\u001b[1;33m.\u001b[0m\u001b[0madd_subplot\u001b[0m\u001b[1;33m(\u001b[0m\u001b[1;36m231\u001b[0m\u001b[1;33m)\u001b[0m\u001b[1;33m\u001b[0m\u001b[0m\n\u001b[1;32m----> 3\u001b[1;33m \u001b[0max1\u001b[0m\u001b[1;33m.\u001b[0m\u001b[0mscatter\u001b[0m\u001b[1;33m(\u001b[0m\u001b[0mx\u001b[0m\u001b[1;33m[\u001b[0m\u001b[0my\u001b[0m\u001b[1;33m==\u001b[0m\u001b[1;34m'DH'\u001b[0m\u001b[1;33m]\u001b[0m\u001b[1;33m[\u001b[0m\u001b[1;34m'pelvic_incidence'\u001b[0m\u001b[1;33m]\u001b[0m\u001b[1;33m,\u001b[0m \u001b[0my\u001b[0m\u001b[1;33m[\u001b[0m\u001b[0my\u001b[0m\u001b[1;33m==\u001b[0m\u001b[1;34m'DH'\u001b[0m\u001b[1;33m]\u001b[0m\u001b[1;33m,\u001b[0m \u001b[0mlabel\u001b[0m\u001b[1;33m=\u001b[0m\u001b[1;34m'DH'\u001b[0m\u001b[1;33m,\u001b[0m \u001b[0mc\u001b[0m\u001b[1;33m=\u001b[0m\u001b[1;34m'cyan'\u001b[0m\u001b[1;33m)\u001b[0m\u001b[1;33m\u001b[0m\u001b[0m\n\u001b[0m\u001b[0;32m      4\u001b[0m \u001b[0max1\u001b[0m\u001b[1;33m.\u001b[0m\u001b[0mscatter\u001b[0m\u001b[1;33m(\u001b[0m\u001b[0mx\u001b[0m\u001b[1;33m[\u001b[0m\u001b[0my\u001b[0m\u001b[1;33m==\u001b[0m\u001b[1;34m'SL'\u001b[0m\u001b[1;33m]\u001b[0m\u001b[1;33m[\u001b[0m\u001b[1;34m'pelvic_incidence'\u001b[0m\u001b[1;33m]\u001b[0m\u001b[1;33m,\u001b[0m \u001b[0my\u001b[0m\u001b[1;33m[\u001b[0m\u001b[0my\u001b[0m\u001b[1;33m==\u001b[0m\u001b[1;34m'SL'\u001b[0m\u001b[1;33m]\u001b[0m\u001b[1;33m,\u001b[0m \u001b[0mlabel\u001b[0m\u001b[1;33m=\u001b[0m\u001b[1;34m'SL'\u001b[0m\u001b[1;33m,\u001b[0m \u001b[0mc\u001b[0m\u001b[1;33m=\u001b[0m\u001b[1;34m'magenta'\u001b[0m\u001b[1;33m)\u001b[0m\u001b[1;33m\u001b[0m\u001b[0m\n\u001b[0;32m      5\u001b[0m \u001b[0max1\u001b[0m\u001b[1;33m.\u001b[0m\u001b[0mscatter\u001b[0m\u001b[1;33m(\u001b[0m\u001b[0mx\u001b[0m\u001b[1;33m[\u001b[0m\u001b[0my\u001b[0m\u001b[1;33m==\u001b[0m\u001b[1;34m'NO'\u001b[0m\u001b[1;33m]\u001b[0m\u001b[1;33m[\u001b[0m\u001b[1;34m'pelvic_incidence'\u001b[0m\u001b[1;33m]\u001b[0m\u001b[1;33m,\u001b[0m \u001b[0my\u001b[0m\u001b[1;33m[\u001b[0m\u001b[0my\u001b[0m\u001b[1;33m==\u001b[0m\u001b[1;34m'NO'\u001b[0m\u001b[1;33m]\u001b[0m\u001b[1;33m,\u001b[0m \u001b[0mlabel\u001b[0m\u001b[1;33m=\u001b[0m\u001b[1;34m'NO'\u001b[0m\u001b[1;33m,\u001b[0m \u001b[0mc\u001b[0m\u001b[1;33m=\u001b[0m\u001b[1;34m'#1B1B1B'\u001b[0m\u001b[1;33m)\u001b[0m\u001b[1;33m\u001b[0m\u001b[0m\n",
      "\u001b[1;31mNameError\u001b[0m: name 'x' is not defined"
     ]
    },
    {
     "data": {
      "image/png": "[encoded data removed]",
      "text/plain": [
       "<Figure size 1080x576 with 1 Axes>"
      ]
     },
     "metadata": {},
     "output_type": "display_data"
    }
   ],
   "source": [
    "fig = plt.figure(figsize=(15, 8))\n",
    "ax1 = fig.add_subplot(231)\n",
    "ax1.scatter(X[Y=='DH']['pelvic_incidence'], Y[Y=='DH'], label='DH', c='cyan')\n",
    "ax1.scatter(X[Y=='SL']['pelvic_incidence'], Y[Y=='SL'], label='SL', c='magenta')\n",
    "ax1.scatter(X[Y=='NO']['pelvic_incidence'], Y[Y=='NO'], label='NO', c='#1B1B1B')\n",
    "ax1.set_title(\"pelvic_incidence\")\n",
    "\n",
    "ax2 = fig.add_subplot(232)\n",
    "ax2.scatter(X[Y=='DH']['pelvic_tilt'], Y[Y=='DH'], label='DH', c='cyan')\n",
    "ax2.scatter(X[Y=='SL']['pelvic_tilt'], Y[Y=='SL'], label='SL', c='magenta')\n",
    "ax2.scatter(X[Y=='NO']['pelvic_tilt'], Y[Y=='NO'], label='NO', c='#1B1B1B')\n",
    "ax2.set_title(\"pelvic_tilt\")\n",
    "\n",
    "ax3 = fig.add_subplot(233)\n",
    "ax3.scatter(X[Y=='DH']['lumbar_lordosis_angle'], Y[Y=='DH'], label='DH', c='cyan')\n",
    "ax3.scatter(X[Y=='SL']['lumbar_lordosis_angle'], Y[Y=='SL'], label='SL', c='magenta')\n",
    "ax3.scatter(X[Y=='NO']['lumbar_lordosis_angle'], Y[Y=='NO'], label='NO', c='#1B1B1B')\n",
    "ax3.set_title(\"lumbar_lordosis_angle\")\n",
    "\n",
    "ax4 = fig.add_subplot(234)\n",
    "ax4.scatter(X[Y=='DH']['sacral_slop'], Y[Y=='DH'], label='DH', c='cyan')\n",
    "ax4.scatter(X[Y=='SL']['sacral_slop'], Y[Y=='SL'], label='SL', c='magenta')\n",
    "ax4.scatter(X[Y=='NO']['sacral_slop'], Y[Y=='NO'], label='NO', c='#1B1B1B')\n",
    "ax4.set_title(\"sacral_slope\")\n",
    "\n",
    "ax5 = fig.add_subplot(235)\n",
    "ax5.scatter(X[Y=='DH']['pelvic_radius'], Y[Y=='DH'], label='DH', c='cyan')\n",
    "ax5.scatter(X[Y=='SL']['pelvic_radius'], Y[Y=='SL'], label='SL', c='magenta')\n",
    "ax5.scatter(X[Y=='NO']['pelvic_radius'], Y[Y=='NO'], label='NO', c='#1B1B1B')\n",
    "ax5.set_title(\"pelvic_radius\")\n",
    "\n",
    "ax6 = fig.add_subplot(236)\n",
    "ax6.scatter(X[Y=='DH']['grade_of_spondylolisthesis'], Y[Y=='DH'], label='DH', c='cyan')\n",
    "ax6.scatter(X[Y=='SL']['grade_of_spondylolisthesis'], Y[Y=='SL'], label='SL', c='magenta')\n",
    "ax6.scatter(X[Y=='NO']['grade_of_spondylolisthesis'], Y[Y=='NO'], label='NO', c='#1B1B1B')\n",
    "ax6.set_title(\"grade_of_spondylolisthesis\")\n",
    "\n",
    "plt.tight_layout(pad=0.4, w_pad=1.5, h_pad=2.0)\n",
    "plt.show()"
   ]
  },
  {
   "cell_type": "code",
   "execution_count": null,
   "metadata": {},
   "outputs": [],
   "source": []
  }
 ],
 "metadata": {
  "kernelspec": {
   "display_name": "Python 3",
   "language": "python",
   "name": "python3"
  },
  "language_info": {
   "codemirror_mode": {
    "name": "ipython",
    "version": 3
   },
   "file_extension": ".py",
   "mimetype": "text/x-python",
   "name": "python",
   "nbconvert_exporter": "python",
   "pygments_lexer": "ipython3",
   "version": "3.6.4"
  }
 },
 "nbformat": 4,
 "nbformat_minor": 2
}
